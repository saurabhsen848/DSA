{
 "cells": [
  {
   "cell_type": "code",
   "execution_count": 7,
   "id": "d277dbc4-9158-41cc-86d4-e7c548614b2f",
   "metadata": {},
   "outputs": [
    {
     "name": "stdin",
     "output_type": "stream",
     "text": [
      "Enter the number of disks:  3\n"
     ]
    },
    {
     "name": "stdout",
     "output_type": "stream",
     "text": [
      "Steps to solve Tower of Hanoi:\n",
      "Move disk 1 from A to C\n",
      "Move disk 2 from A to B\n",
      "Move disk 1 from C to B\n",
      "Move disk 3 from A to C\n",
      "Move disk 1 from B to A\n",
      "Move disk 2 from B to C\n",
      "Move disk 1 from A to C\n"
     ]
    }
   ],
   "source": [
    "def tower_of_hanoi(n, a, b, c):\n",
    "    if n == 1:\n",
    "        print(f\"Move disk 1 from {a} to {c}\")\n",
    "        return\n",
    "    tower_of_hanoi(n - 1, a, c, b)\n",
    "    print(f\"Move disk {n} from {a} to {c}\")\n",
    "    tower_of_hanoi(n - 1, b, a, c)\n",
    "n = int(input(\"Enter the number of disks: \"))\n",
    "print(\"Steps to solve Tower of Hanoi:\")\n",
    "tower_of_hanoi(n, 'A', 'B', 'C')"
   ]
  },
  {
   "cell_type": "code",
   "execution_count": 14,
   "id": "c9a47680-bd84-4f0b-9621-af894d79fa61",
   "metadata": {},
   "outputs": [
    {
     "name": "stdin",
     "output_type": "stream",
     "text": [
      "Enter NO. 3\n"
     ]
    },
    {
     "name": "stdout",
     "output_type": "stream",
     "text": [
      "3\n"
     ]
    }
   ],
   "source": [
    "def sum_of_digits(n):\n",
    "    if n == 0:\n",
    "        return 0\n",
    "    return n % 10 + sum_of_digits(n // 10)\n",
    "num=int(input(\"Enter NO.\"))\n",
    "print(sum_of_digits(num))"
   ]
  },
  {
   "cell_type": "code",
   "execution_count": 16,
   "id": "49b81ed5-c634-49c5-8270-e824da6e5a74",
   "metadata": {},
   "outputs": [
    {
     "name": "stdout",
     "output_type": "stream",
     "text": [
      "1\n"
     ]
    }
   ],
   "source": [
    "def gcd(a, b):\n",
    "    if b == 0:\n",
    "        return a\n",
    "    return gcd(b, a % b)\n",
    "print(gcd(24,29))"
   ]
  },
  {
   "cell_type": "code",
   "execution_count": 18,
   "id": "00d34f4a-fcf9-4d2b-a682-5f45697d86bd",
   "metadata": {},
   "outputs": [
    {
     "name": "stdout",
     "output_type": "stream",
     "text": [
      "128\n",
      "64\n"
     ]
    }
   ],
   "source": [
    "def even_fib(n):\n",
    "    if n == 0:\n",
    "        return 0\n",
    "    return odd_fib(n - 1) + even_fib(n - 1)\n",
    "def odd_fib(n):\n",
    "    if n == 0:\n",
    "        return 1\n",
    "    return even_fib(n - 1) + odd_fib(n - 1)\n",
    "print(even_fib(8))\n",
    "print(odd_fib(7))"
   ]
  },
  {
   "cell_type": "code",
   "execution_count": 19,
   "id": "cc32820a-618d-4688-a92d-b688e629163a",
   "metadata": {},
   "outputs": [
    {
     "name": "stdout",
     "output_type": "stream",
     "text": [
      "1011100\n"
     ]
    }
   ],
   "source": [
    "def decimal_to_binary(n):\n",
    "    if n == 0:\n",
    "        return \"\"\n",
    "    return decimal_to_binary(n // 2) + str(n % 2)\n",
    "print(decimal_to_binary(92))"
   ]
  },
  {
   "cell_type": "code",
   "execution_count": 20,
   "id": "0f544f0f-87ba-4f1d-985e-08bfafc02e61",
   "metadata": {},
   "outputs": [
    {
     "name": "stdout",
     "output_type": "stream",
     "text": [
      "8\n"
     ]
    }
   ],
   "source": [
    "def count_zeroes(n):\n",
    "    if n == 0:\n",
    "        return 1\n",
    "    if n < 10:\n",
    "        return 0\n",
    "    return (1 if n % 10 == 0 else 0) + count_zeroes(n // 10)\n",
    "print(count_zeroes(200000000))"
   ]
  },
  {
   "cell_type": "code",
   "execution_count": 25,
   "id": "c922756d-e3b2-449b-bde7-0aa246aae8d2",
   "metadata": {},
   "outputs": [
    {
     "name": "stdout",
     "output_type": "stream",
     "text": [
      "10\n"
     ]
    }
   ],
   "source": [
    "def sum_natural(n):\n",
    "    if n == 0:\n",
    "        return 0\n",
    "    return n + sum_natural(n - 1)\n",
    "print(sum_natural(4))"
   ]
  },
  {
   "cell_type": "code",
   "execution_count": 26,
   "id": "c0be1f2e-3cb8-427a-851d-7dcd63376306",
   "metadata": {},
   "outputs": [
    {
     "name": "stdout",
     "output_type": "stream",
     "text": [
      "10\n"
     ]
    }
   ],
   "source": [
    "def count_digits(n):\n",
    "    if n == 0:\n",
    "        return 0\n",
    "    return 1 + count_digits(n // 10)\n",
    "print(count_digits(5454543345))"
   ]
  },
  {
   "cell_type": "code",
   "execution_count": 27,
   "id": "3ac5ef73-18c3-4f1f-8150-510e59f6747b",
   "metadata": {},
   "outputs": [
    {
     "name": "stdout",
     "output_type": "stream",
     "text": [
      "12\n"
     ]
    }
   ],
   "source": [
    "def count_odd_digits(n):\n",
    "    if n == 0:\n",
    "        return 0\n",
    "    return (1 if (n % 10) % 2 == 1 else 0) + count_odd_digits(n // 10)\n",
    "print(count_odd_digits(45764872836332589282566959))"
   ]
  },
  {
   "cell_type": "code",
   "execution_count": 28,
   "id": "024d0c9f-575d-4715-8c39-a61c1178d77f",
   "metadata": {},
   "outputs": [
    {
     "name": "stdout",
     "output_type": "stream",
     "text": [
      "27\n"
     ]
    }
   ],
   "source": [
    "def string_length(s):\n",
    "    if s == \"\":\n",
    "        return 0\n",
    "    return 1 + string_length(s[1:])\n",
    "print(string_length(\"The greatest common divisor\"))"
   ]
  },
  {
   "cell_type": "code",
   "execution_count": null,
   "id": "37925c86-30cc-48ba-931d-8553daeac096",
   "metadata": {},
   "outputs": [],
   "source": [
    "def count_digits_in_string(s):\n",
    "    if s == \"\":\n",
    "        return 0\n",
    "    return (1 if s[0].isdigit() else 0) + count_digits_in_string(s[1:])\n",
    "print(count_digits_in_string(Hello1234\"))"
   ]
  },
  {
   "cell_type": "code",
   "execution_count": 1,
   "id": "be0f7cf2-4e60-4b9f-8182-d2d45cc9a410",
   "metadata": {},
   "outputs": [
    {
     "name": "stdin",
     "output_type": "stream",
     "text": [
      "Enter any number:  3\n"
     ]
    },
    {
     "name": "stdout",
     "output_type": "stream",
     "text": [
      "Factorial output: 6\n"
     ]
    }
   ],
   "source": [
    "def factorial(num):\n",
    "    if num == 0:\n",
    "        return 1\n",
    "    else:\n",
    "        return num*factorial(num-1)\n",
    "n = int(input(\"Enter any number: \"))\n",
    "fact = factorial(n)\n",
    "print(\"Factorial output:\",fact)"
   ]
  },
  {
   "cell_type": "code",
   "execution_count": 3,
   "id": "426152bd-231e-4211-b96f-44bdee08c323",
   "metadata": {},
   "outputs": [
    {
     "name": "stdin",
     "output_type": "stream",
     "text": [
      "Enter any number: 4\n",
      "Enter exponent: 4\n"
     ]
    },
    {
     "name": "stdout",
     "output_type": "stream",
     "text": [
      "Result: 256\n"
     ]
    }
   ],
   "source": [
    "def power(a,b):\n",
    "    if b == 0:\n",
    "        return 1\n",
    "    else:\n",
    "        return a*power(a,b-1)\n",
    "num = int(input(\"Enter any number:\"))\n",
    "exp = int(input(\"Enter exponent:\"))\n",
    "result = power(num,exp)\n",
    "print(\"Result:\",result)"
   ]
  },
  {
   "cell_type": "code",
   "execution_count": 4,
   "id": "6a20a65e-025d-4bf6-b88e-60008070b689",
   "metadata": {},
   "outputs": [
    {
     "name": "stdout",
     "output_type": "stream",
     "text": [
      "Fibonacci number at position 5 is 3\n"
     ]
    }
   ],
   "source": [
    "def fibonacci(n):\n",
    "# Base case\n",
    "    if n < 1:\n",
    "        return -1\n",
    "    elif n==1:\n",
    "        return 0\n",
    "    elif n==2:\n",
    "        return 1\n",
    "# Recursive case (binary recursion)\n",
    "    else:\n",
    "        return fibonacci(n-1) + fibonacci(n-2)\n",
    "# Example usage\n",
    "n = 5 # Change this value to test other positions\n",
    "print(f\"Fibonacci number at position {n} is {fibonacci(n)}\")"
   ]
  },
  {
   "cell_type": "code",
   "execution_count": null,
   "id": "b498807a-4a47-400e-90da-a61ae02427b8",
   "metadata": {},
   "outputs": [],
   "source": [
    "def iseven(n):\n",
    "# Base case for even number\n",
    "    if n == 0:\n",
    "        return True\n",
    "# Base case for odd number\n",
    "    elif n == 1:\n",
    "        return False\n",
    "# Recursive case\n",
    "    elif n > 1:\n",
    "        return isodd(n - 1)\n",
    "# Handle negative numbers\n",
    "    elif n < 0:\n",
    "        return iseven(-n)\n",
    "def isodd(n):\n",
    "    return not iseven(n)\n",
    "# Input from the user\n",
    "num = -5\n",
    "if iseven(num):\n",
    "    print(\"The number is even\")\n",
    "else:\n",
    "    print(\"The number is odd\")\n"
   ]
  },
  {
   "cell_type": "code",
   "execution_count": null,
   "id": "3442d85e-9dd5-44ca-9220-6a08887e40f3",
   "metadata": {},
   "outputs": [],
   "source": []
  }
 ],
 "metadata": {
  "kernelspec": {
   "display_name": "Python 3 (ipykernel)",
   "language": "python",
   "name": "python3"
  },
  "language_info": {
   "codemirror_mode": {
    "name": "ipython",
    "version": 3
   },
   "file_extension": ".py",
   "mimetype": "text/x-python",
   "name": "python",
   "nbconvert_exporter": "python",
   "pygments_lexer": "ipython3",
   "version": "3.12.7"
  }
 },
 "nbformat": 4,
 "nbformat_minor": 5
}
