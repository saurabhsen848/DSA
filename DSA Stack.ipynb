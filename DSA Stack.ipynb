{
 "cells": [
  {
   "cell_type": "code",
   "execution_count": 1,
   "metadata": {},
   "outputs": [
    {
     "name": "stdout",
     "output_type": "stream",
     "text": [
      "Original Stack: [1, 2, 3, 4]\n",
      "Reversed Stack: [4, 3, 2, 1]\n"
     ]
    }
   ],
   "source": [
    "class Stack:\n",
    "    def __init__(self):\n",
    "        self.items = []\n",
    "\n",
    "    def is_empty(self):\n",
    "        return len(self.items) == 0\n",
    "\n",
    "    def push(self, item):\n",
    "        self.items.append(item)\n",
    "\n",
    "    def pop(self):\n",
    "        if not self.is_empty():\n",
    "            return self.items.pop()\n",
    "        return None\n",
    "\n",
    "    def peek(self):\n",
    "        if not self.is_empty():\n",
    "            return self.items[-1]\n",
    "        return None\n",
    "\n",
    "    def size(self):\n",
    "        return len(self.items)\n",
    "\n",
    "    def __str__(self):\n",
    "        return str(self.items)\n",
    "\n",
    "def insert_at_bottom(stack, item):\n",
    "    if stack.is_empty():\n",
    "        stack.push(item)\n",
    "    else:\n",
    "        temp = stack.pop()\n",
    "        insert_at_bottom(stack, item)\n",
    "        stack.push(temp)\n",
    "\n",
    "def reverse_stack(stack):\n",
    "    if not stack.is_empty():\n",
    "        temp = stack.pop()\n",
    "        reverse_stack(stack)\n",
    "        insert_at_bottom(stack, temp)\n",
    "stack = Stack()\n",
    "stack.push(1)\n",
    "stack.push(2)\n",
    "stack.push(3)\n",
    "stack.push(4)\n",
    "print(\"Original Stack:\", stack)\n",
    "reverse_stack(stack)\n",
    "print(\"Reversed Stack:\", stack)"
   ]
  },
  {
   "cell_type": "code",
   "execution_count": 2,
   "metadata": {},
   "outputs": [
    {
     "name": "stdout",
     "output_type": "stream",
     "text": [
      "Stack: [3, 5, 2, 1, 4]\n",
      "Minimum Element: 1\n",
      "Stack after pop: [3, 5, 2, 1]\n",
      "Minimum Element after pop: 1\n"
     ]
    }
   ],
   "source": [
    "class MinStack:\n",
    "    def __init__(self):\n",
    "        self.stack = []\n",
    "        self.min_stack = []\n",
    "\n",
    "    def push(self, item):\n",
    "        self.stack.append(item)\n",
    "        if not self.min_stack or item <= self.min_stack[-1]:\n",
    "            self.min_stack.append(item)\n",
    "\n",
    "    def pop(self):\n",
    "        if self.stack:\n",
    "            item = self.stack.pop()\n",
    "            if item == self.min_stack[-1]:\n",
    "                self.min_stack.pop()\n",
    "            return item\n",
    "        return None\n",
    "\n",
    "    def get_min(self):\n",
    "        if self.min_stack:\n",
    "            return self.min_stack[-1]\n",
    "        return None\n",
    "\n",
    "    def __str__(self):\n",
    "        return str(self.stack)\n",
    "\n",
    "min_stack = MinStack()\n",
    "min_stack.push(3)\n",
    "min_stack.push(5)\n",
    "min_stack.push(2)\n",
    "min_stack.push(1)\n",
    "min_stack.push(4)\n",
    "print(\"Stack:\", min_stack)\n",
    "print(\"Minimum Element:\", min_stack.get_min())\n",
    "min_stack.pop()\n",
    "print(\"Stack after pop:\", min_stack)\n",
    "print(\"Minimum Element after pop:\", min_stack.get_min())"
   ]
  },
  {
   "cell_type": "code",
   "execution_count": null,
   "metadata": {},
   "outputs": [],
   "source": []
  },
  {
   "cell_type": "code",
   "execution_count": null,
   "metadata": {},
   "outputs": [],
   "source": [
    "def sort_stack(stack):\n",
    "    temp_stack = Stack()\n",
    "    while not stack.is_empty():\n",
    "        temp = stack.pop()\n",
    "        while not temp_stack.is_empty() and temp_stack.peek() > temp:\n",
    "            stack.push(temp_stack.pop())\n",
    "        temp_stack.push(temp)\n",
    "    while not temp_stack.is_empty():\n",
    "        stack.push(temp_stack.pop())\n",
    "stack = Stack()\n",
    "stack.push(3)\n",
    "stack.push(1)\n",
    "stack.push(4)\n",
    "stack.push(2)\n",
    "print(\"Original Stack:\", stack)\n",
    "sort_stack(stack)\n",
    "print(\"Sorted Stack (Descending):\", stack)"
   ]
  }
 ],
 "metadata": {
  "kernelspec": {
   "display_name": "Python 3",
   "language": "python",
   "name": "python3"
  },
  "language_info": {
   "codemirror_mode": {
    "name": "ipython",
    "version": 3
   },
   "file_extension": ".py",
   "mimetype": "text/x-python",
   "name": "python",
   "nbconvert_exporter": "python",
   "pygments_lexer": "ipython3",
   "version": "3.13.1"
  }
 },
 "nbformat": 4,
 "nbformat_minor": 2
}
